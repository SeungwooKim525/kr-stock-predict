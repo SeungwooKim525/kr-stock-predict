{
 "cells": [
  {
   "cell_type": "code",
   "execution_count": 7,
   "id": "90a550cc-b724-468f-9bf0-05b2b2b93af2",
   "metadata": {},
   "outputs": [
    {
     "data": {
      "text/plain": [
       "['data/y.pkl']"
      ]
     },
     "execution_count": 7,
     "metadata": {},
     "output_type": "execute_result"
    }
   ],
   "source": [
    "# 라이브러리 임포트\n",
    "from pykrx import stock\n",
    "import pandas as pd\n",
    "\n",
    "# 삼성전자 주가 데이터 불러오기 (2023-01-01 ~ 2025-04-30)\n",
    "df = stock.get_market_ohlcv_by_date(\"20230101\", \"20250430\", \"005930\")\n",
    "df = df.rename(columns={\n",
    "    \"시가\": \"Open\", \"고가\": \"High\", \"저가\": \"Low\", \"종가\": \"Close\", \"거래량\": \"Volume\"\n",
    "})\n",
    "\n",
    "# 기술적 지표 생성\n",
    "df[\"MA5\"] = df[\"Close\"].rolling(window=5).mean()\n",
    "df[\"MA10\"] = df[\"Close\"].rolling(window=10).mean()\n",
    "df[\"MA20\"] = df[\"Close\"].rolling(window=20).mean()\n",
    "\n",
    "# 타깃 변수 생성 (다음날 종가 > 오늘 종가면 1, 아니면 0)\n",
    "df[\"PriceChange\"] = df[\"Close\"].shift(-1) - df[\"Close\"]\n",
    "df[\"Target\"] = (df[\"PriceChange\"] > 0).astype(int)\n",
    "\n",
    "# 마지막 행 제거 (shift로 인해 NaN 발생)\n",
    "df = df.dropna()\n",
    "\n",
    "# 특성과 타깃 정의\n",
    "X = df[[\"Open\", \"High\", \"Low\", \"Close\", \"Volume\", \"MA5\", \"MA10\", \"MA20\"]]\n",
    "y = df[\"Target\"]\n",
    "\n",
    "# 저장 (modeling에서 불러올 수 있도록)\n",
    "import joblib\n",
    "joblib.dump(X, \"data/X.pkl\")\n",
    "joblib.dump(y, \"data/y.pkl\")"
   ]
  }
 ],
 "metadata": {
  "kernelspec": {
   "display_name": "Python 3 (ipykernel)",
   "language": "python",
   "name": "python3"
  },
  "language_info": {
   "codemirror_mode": {
    "name": "ipython",
    "version": 3
   },
   "file_extension": ".py",
   "mimetype": "text/x-python",
   "name": "python",
   "nbconvert_exporter": "python",
   "pygments_lexer": "ipython3",
   "version": "3.11.7"
  }
 },
 "nbformat": 4,
 "nbformat_minor": 5
}
